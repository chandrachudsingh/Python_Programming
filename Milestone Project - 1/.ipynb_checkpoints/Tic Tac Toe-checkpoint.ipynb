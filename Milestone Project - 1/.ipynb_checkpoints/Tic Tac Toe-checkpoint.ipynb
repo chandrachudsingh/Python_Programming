{
 "cells": [
  {
   "cell_type": "code",
   "execution_count": 70,
   "metadata": {},
   "outputs": [],
   "source": [
    "from IPython.display import clear_output     # to clear the output between moves\n",
    "\n",
    "def display_board(board):\n",
    "    clear_output()   # pnly works in jupyter notebook\n",
    "    \n",
    "    print('     |     |     ')\n",
    "    print('  ' + board[6] + '  |  ' + board[7] + '  |  ' + board[8] + '  ')\n",
    "    print('     |     |     ')\n",
    "    print('-----------------')\n",
    "    print('     |     |     ')\n",
    "    print('  ' + board[3] + '  |  ' + board[4] + '  |  ' + board[5] + '  ')\n",
    "    print('     |     |     ')\n",
    "    print('-----------------')\n",
    "    print('     |     |     ')\n",
    "    print('  ' + board[0] + '  |  ' + board[1] + '  |  ' + board[2] + '  ')\n",
    "    print('     |     |     ')"
   ]
  },
  {
   "cell_type": "code",
   "execution_count": 81,
   "metadata": {},
   "outputs": [],
   "source": [
    "def player_input():\n",
    "    marker = ''\n",
    "    \n",
    "    while marker not in ['X','O']:\n",
    "        marker = input('Player 1: Do you want to be X or O ? ').upper()\n",
    "    \n",
    "        if marker == 'X':\n",
    "            return ('X','O')\n",
    "        else:\n",
    "            return ('O','X')"
   ]
  },
  {
   "cell_type": "code",
   "execution_count": 98,
   "metadata": {},
   "outputs": [],
   "source": [
    "def place_marker(board,marker,pos):\n",
    "    # Place the marker on the desired position\n",
    "    board[pos-1] = marker"
   ]
  },
  {
   "cell_type": "code",
   "execution_count": 85,
   "metadata": {},
   "outputs": [],
   "source": [
    "def win_check(board,mark):\n",
    "\n",
    "    # WIN TIC TAC TOE?\n",
    "    \n",
    "    return ((# All Rows, and check to see if they all share the same marker\n",
    "    (board[0] == board[1] == board[2] == mark) or\n",
    "    (board[3] == board[4] == board[5] == mark) or\n",
    "    (board[6] == board[7] == board[8] == mark)) or\n",
    "    (# All Rows, and check to see if they all sha`re the same marker\n",
    "    (board[0] == board[3] == board[6] == mark) or\n",
    "    (board[1] == board[4] == board[7] == mark) or\n",
    "    (board[2] == board[5] == board[8] == mark)) or\n",
    "    (# 2 Diagonals, check to see match\n",
    "    (board[0] == board[4] == board[8] == mark) or\n",
    "    (board[2] == board[4] == board[6] == mark)))"
   ]
  },
  {
   "cell_type": "code",
   "execution_count": 87,
   "metadata": {},
   "outputs": [],
   "source": [
    "from random import randint\n",
    "\n",
    "def choose_first():\n",
    "    if randint(0,1) == 0:\n",
    "        return 'Player 1'\n",
    "    else:\n",
    "        return 'Player 2'"
   ]
  },
  {
   "cell_type": "code",
   "execution_count": 88,
   "metadata": {},
   "outputs": [],
   "source": [
    "def space_check(board,pos):\n",
    "    return board[pos] == ' '"
   ]
  },
  {
   "cell_type": "code",
   "execution_count": 91,
   "metadata": {},
   "outputs": [],
   "source": [
    "def full_board_check(board):\n",
    "    for i in range(0,len(board)-1):\n",
    "        if space_check(board,i):\n",
    "            return False\n",
    "    \n",
    "    return True"
   ]
  },
  {
   "cell_type": "code",
   "execution_count": 92,
   "metadata": {},
   "outputs": [],
   "source": [
    "def player_choice(board):\n",
    "    choice = 'X'\n",
    "    acceptable_range = range(1,10)\n",
    "    space_free = False\n",
    "    \n",
    "    while choice.isdigit() == False or choice in acceptable_range or space_free:\n",
    "        choice = input('Choose a position(1-9) on the board to place the marker : ')\n",
    "        space_free = space_check(board,pos)\n",
    "        \n",
    "        if choice.isdigit():\n",
    "            if choice not in acceptable_range:\n",
    "                print('Sorry, Input not in range(1-9)!!')\n",
    "        else:\n",
    "            print('Sorry, Input is not a digit!!')\n",
    "            \n",
    "        if not space_free:\n",
    "            print('Sorry, Its already filled!')\n",
    "               \n",
    "    return int(choice)"
   ]
  },
  {
   "cell_type": "code",
   "execution_count": 94,
   "metadata": {},
   "outputs": [],
   "source": [
    "def replay():\n",
    "    choice = ''\n",
    "    \n",
    "    while choice not in ['Yes','No']:\n",
    "        choice = input('Play Again(Yes/No) ? ')\n",
    "    \n",
    "        if choice not in ['Yes','No']:\n",
    "            print('Sorry, Wrong input!!')\n",
    "            \n",
    "    return choice == 'Yes'"
   ]
  },
  {
   "cell_type": "code",
   "execution_count": 100,
   "metadata": {},
   "outputs": [
    {
     "name": "stdout",
     "output_type": "stream",
     "text": [
      "Welcome to Tic Tac Toe!\n",
      "Player 1: Do you want to be X or O ? X\n"
     ]
    },
    {
     "ename": "TypeError",
     "evalue": "cannot unpack non-iterable NoneType object",
     "output_type": "error",
     "traceback": [
      "\u001b[1;31m---------------------------------------------------------------------------\u001b[0m",
      "\u001b[1;31mTypeError\u001b[0m                                 Traceback (most recent call last)",
      "\u001b[1;32m<ipython-input-100-c3daf83c3f44>\u001b[0m in \u001b[0;36m<module>\u001b[1;34m\u001b[0m\n\u001b[0;32m      8\u001b[0m \u001b[1;33m\u001b[0m\u001b[0m\n\u001b[0;32m      9\u001b[0m     \u001b[1;31m# to decide the player markers\u001b[0m\u001b[1;33m\u001b[0m\u001b[1;33m\u001b[0m\u001b[1;33m\u001b[0m\u001b[0m\n\u001b[1;32m---> 10\u001b[1;33m     \u001b[0mplayer1_marker\u001b[0m\u001b[1;33m,\u001b[0m\u001b[0mplayer2_marker\u001b[0m \u001b[1;33m=\u001b[0m \u001b[0mplayer_input\u001b[0m\u001b[1;33m(\u001b[0m\u001b[1;33m)\u001b[0m\u001b[1;33m\u001b[0m\u001b[1;33m\u001b[0m\u001b[0m\n\u001b[0m\u001b[0;32m     11\u001b[0m \u001b[1;33m\u001b[0m\u001b[0m\n\u001b[0;32m     12\u001b[0m     \u001b[1;31m# choosing which player to start\u001b[0m\u001b[1;33m\u001b[0m\u001b[1;33m\u001b[0m\u001b[1;33m\u001b[0m\u001b[0m\n",
      "\u001b[1;31mTypeError\u001b[0m: cannot unpack non-iterable NoneType object"
     ]
    }
   ],
   "source": [
    "print('Welcome to Tic Tac Toe!')\n",
    "\n",
    "while True:\n",
    "    # initialize the board \n",
    "    #board = [' ',' ',' ',' ',' ',' ',' ',' ',' ']\n",
    "    #    or\n",
    "    the_board = [' ']*10\n",
    "    \n",
    "    # to decide the player markers\n",
    "    player1_marker, player2_marker = player_input()\n",
    "\n",
    "    # choosing which player to start \n",
    "    turn = choose_first()\n",
    "    print(turn + ' will go first.')\n",
    "    \n",
    "    choice = 'Z'\n",
    "    while choice not in ['Y','N']:\n",
    "        choice = input('Ready to play(Y/N) ? ').upper()\n",
    "    \n",
    "        if choice not in ['Y','N']:\n",
    "            print('Sorry, Wrong input!!')\n",
    "            \n",
    "    if choice == 'Y':\n",
    "        game_on = True \n",
    "    else:\n",
    "        game_on = False\n",
    "        \n",
    "    while game_on :\n",
    "        if turn == 'Player 1':\n",
    "            the_marker = player1_marker\n",
    "        else:\n",
    "            the_marker = player2_marker\n",
    "        \n",
    "        # display board on the screen\n",
    "        display_board(the_board)\n",
    "\n",
    "        # to take the position to place marker\n",
    "        pos = player_choice(the_board)\n",
    "\n",
    "        # place the marker on the board\n",
    "        place_marker(the_board,the_marker,pos)\n",
    "        \n",
    "        # check for a win\n",
    "        if win_check(the_board,the_marker):\n",
    "            display_board(the_board)\n",
    "            print('Hurray!, ' + turn + ' has won.')\n",
    "            game_on = False\n",
    "        else:\n",
    "            if full_board_check(the_board):\n",
    "                display_board(the_board)\n",
    "                print('Its a tie!')\n",
    "                game_on = False\n",
    "            else:\n",
    "                if turn == 'Player 1':\n",
    "                    turn = 'Player 2'\n",
    "                else:\n",
    "                    turn = 'Player 1'\n",
    "\n",
    "    if not replay():\n",
    "        break"
   ]
  },
  {
   "cell_type": "code",
   "execution_count": null,
   "metadata": {},
   "outputs": [],
   "source": []
  }
 ],
 "metadata": {
  "kernelspec": {
   "display_name": "Python 3",
   "language": "python",
   "name": "python3"
  },
  "language_info": {
   "codemirror_mode": {
    "name": "ipython",
    "version": 3
   },
   "file_extension": ".py",
   "mimetype": "text/x-python",
   "name": "python",
   "nbconvert_exporter": "python",
   "pygments_lexer": "ipython3",
   "version": "3.7.6"
  }
 },
 "nbformat": 4,
 "nbformat_minor": 4
}
